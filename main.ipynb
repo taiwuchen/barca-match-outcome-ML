{
 "cells": [
  {
   "cell_type": "markdown",
   "id": "f6cdd33c",
   "metadata": {},
   "source": [
    "# FC Barcelona Match Outcome Prediction and Performance Suggestions\n",
    "\n",
    "This notebook demonstrates the full workflow for predicting FC Barcelona match outcomes using historical performance data. It includes:\n",
    "\n",
    "- **Data Loading and Preprocessing:** Both numeric and categorical features are handled.\n",
    "- **Model Training and Evaluation:** Three models are trained and compared (Logistic Regression, Random Forest, and Gradient Boosting).\n",
    "- **Feature Importance Analysis and Suggestions:** For non-linear models, top features are extracted and mapped to actionable suggestions for performance improvements.\n",
    "\n",
    "This analysis is designed to help FC Barcelona’s Data Analytics Department (Barça Innovation Hub) to gain insights into which performance metrics are most critical and to offer strategies for improvement."
   ]
  },
  {
   "cell_type": "code",
   "execution_count": 1,
   "id": "7e13c0cc",
   "metadata": {},
   "outputs": [
    {
     "name": "stdout",
     "output_type": "stream",
     "text": [
      "Libraries imported successfully.\n"
     ]
    }
   ],
   "source": [
    "# Import necessary libraries\n",
    "import pandas as pd\n",
    "import numpy as np\n",
    "import matplotlib.pyplot as plt\n",
    "from sklearn.model_selection import train_test_split, cross_val_score\n",
    "from sklearn.preprocessing import LabelEncoder, StandardScaler\n",
    "from sklearn.linear_model import LogisticRegression\n",
    "from sklearn.ensemble import RandomForestClassifier, GradientBoostingClassifier\n",
    "from sklearn.metrics import accuracy_score, f1_score, confusion_matrix, classification_report\n",
    "\n",
    "# Ensure plots display in the notebook\n",
    "%matplotlib inline\n",
    "\n",
    "print('Libraries imported successfully.')"
   ]
  },
  {
   "cell_type": "markdown",
   "id": "7aefca73",
   "metadata": {},
   "source": [
    "## Step 1: Load the Dataset\n",
    "\n",
    "Load the FC Barcelona match performance dataset from a CSV file. Make sure that the file `FC Barcelona Statistics.csv` is in the same directory as this notebook."
   ]
  },
  {
   "cell_type": "code",
   "execution_count": 3,
   "id": "7b0550c9",
   "metadata": {},
   "outputs": [
    {
     "name": "stdout",
     "output_type": "stream",
     "text": [
      "Dataset loaded successfully. Here are the first few rows:\n"
     ]
    },
    {
     "data": {
      "text/html": [
       "<div>\n",
       "<style scoped>\n",
       "    .dataframe tbody tr th:only-of-type {\n",
       "        vertical-align: middle;\n",
       "    }\n",
       "\n",
       "    .dataframe tbody tr th {\n",
       "        vertical-align: top;\n",
       "    }\n",
       "\n",
       "    .dataframe thead th {\n",
       "        text-align: right;\n",
       "    }\n",
       "</style>\n",
       "<table border=\"1\" class=\"dataframe\">\n",
       "  <thead>\n",
       "    <tr style=\"text-align: right;\">\n",
       "      <th></th>\n",
       "      <th>Date</th>\n",
       "      <th>Opponent</th>\n",
       "      <th>Home/Away</th>\n",
       "      <th>Competition</th>\n",
       "      <th>Goals Scored</th>\n",
       "      <th>Goals Conceded</th>\n",
       "      <th>Possession (%)</th>\n",
       "      <th>Shots on Target</th>\n",
       "      <th>xG</th>\n",
       "      <th>Pass Accuracy (%)</th>\n",
       "      <th>Tackles Won</th>\n",
       "      <th>Key Passes</th>\n",
       "      <th>Result</th>\n",
       "      <th>Injury Impact (%)</th>\n",
       "      <th>Rest Days Before Match</th>\n",
       "      <th>Opponent Strength (ELO Rating)</th>\n",
       "      <th>Weather Conditions</th>\n",
       "      <th>Managerial Change (Yes/No)</th>\n",
       "    </tr>\n",
       "  </thead>\n",
       "  <tbody>\n",
       "    <tr>\n",
       "      <th>0</th>\n",
       "      <td>01-01-2020</td>\n",
       "      <td>Villarreal</td>\n",
       "      <td>Home</td>\n",
       "      <td>Copa del Rey</td>\n",
       "      <td>5</td>\n",
       "      <td>4</td>\n",
       "      <td>67</td>\n",
       "      <td>1</td>\n",
       "      <td>1.40</td>\n",
       "      <td>93</td>\n",
       "      <td>11</td>\n",
       "      <td>3</td>\n",
       "      <td>Win</td>\n",
       "      <td>23</td>\n",
       "      <td>9</td>\n",
       "      <td>1714</td>\n",
       "      <td>Windy</td>\n",
       "      <td>Yes</td>\n",
       "    </tr>\n",
       "    <tr>\n",
       "      <th>1</th>\n",
       "      <td>11-01-2020</td>\n",
       "      <td>Mallorca</td>\n",
       "      <td>Home</td>\n",
       "      <td>Copa del Rey</td>\n",
       "      <td>2</td>\n",
       "      <td>3</td>\n",
       "      <td>53</td>\n",
       "      <td>4</td>\n",
       "      <td>3.25</td>\n",
       "      <td>88</td>\n",
       "      <td>17</td>\n",
       "      <td>14</td>\n",
       "      <td>Loss</td>\n",
       "      <td>0</td>\n",
       "      <td>9</td>\n",
       "      <td>1681</td>\n",
       "      <td>Cold</td>\n",
       "      <td>Yes</td>\n",
       "    </tr>\n",
       "    <tr>\n",
       "      <th>2</th>\n",
       "      <td>21-01-2020</td>\n",
       "      <td>Real Madrid</td>\n",
       "      <td>Home</td>\n",
       "      <td>La Liga</td>\n",
       "      <td>0</td>\n",
       "      <td>4</td>\n",
       "      <td>56</td>\n",
       "      <td>10</td>\n",
       "      <td>2.94</td>\n",
       "      <td>83</td>\n",
       "      <td>6</td>\n",
       "      <td>3</td>\n",
       "      <td>Loss</td>\n",
       "      <td>17</td>\n",
       "      <td>10</td>\n",
       "      <td>1752</td>\n",
       "      <td>Sunny</td>\n",
       "      <td>Yes</td>\n",
       "    </tr>\n",
       "    <tr>\n",
       "      <th>3</th>\n",
       "      <td>25-01-2020</td>\n",
       "      <td>Mallorca</td>\n",
       "      <td>Away</td>\n",
       "      <td>La Liga</td>\n",
       "      <td>4</td>\n",
       "      <td>5</td>\n",
       "      <td>71</td>\n",
       "      <td>2</td>\n",
       "      <td>2.97</td>\n",
       "      <td>89</td>\n",
       "      <td>5</td>\n",
       "      <td>14</td>\n",
       "      <td>Loss</td>\n",
       "      <td>25</td>\n",
       "      <td>8</td>\n",
       "      <td>1514</td>\n",
       "      <td>Cold</td>\n",
       "      <td>Yes</td>\n",
       "    </tr>\n",
       "    <tr>\n",
       "      <th>4</th>\n",
       "      <td>28-01-2020</td>\n",
       "      <td>Valencia</td>\n",
       "      <td>Home</td>\n",
       "      <td>Champions League</td>\n",
       "      <td>1</td>\n",
       "      <td>0</td>\n",
       "      <td>66</td>\n",
       "      <td>1</td>\n",
       "      <td>2.96</td>\n",
       "      <td>88</td>\n",
       "      <td>20</td>\n",
       "      <td>13</td>\n",
       "      <td>Win</td>\n",
       "      <td>10</td>\n",
       "      <td>3</td>\n",
       "      <td>1852</td>\n",
       "      <td>Windy</td>\n",
       "      <td>Yes</td>\n",
       "    </tr>\n",
       "  </tbody>\n",
       "</table>\n",
       "</div>"
      ],
      "text/plain": [
       "         Date     Opponent Home/Away       Competition  Goals Scored  \\\n",
       "0  01-01-2020   Villarreal      Home      Copa del Rey             5   \n",
       "1  11-01-2020     Mallorca      Home      Copa del Rey             2   \n",
       "2  21-01-2020  Real Madrid      Home           La Liga             0   \n",
       "3  25-01-2020     Mallorca      Away           La Liga             4   \n",
       "4  28-01-2020     Valencia      Home  Champions League             1   \n",
       "\n",
       "   Goals Conceded  Possession (%)  Shots on Target    xG  Pass Accuracy (%)  \\\n",
       "0               4              67                1  1.40                 93   \n",
       "1               3              53                4  3.25                 88   \n",
       "2               4              56               10  2.94                 83   \n",
       "3               5              71                2  2.97                 89   \n",
       "4               0              66                1  2.96                 88   \n",
       "\n",
       "   Tackles Won  Key Passes Result  Injury Impact (%)  Rest Days Before Match  \\\n",
       "0           11           3    Win                 23                       9   \n",
       "1           17          14   Loss                  0                       9   \n",
       "2            6           3   Loss                 17                      10   \n",
       "3            5          14   Loss                 25                       8   \n",
       "4           20          13    Win                 10                       3   \n",
       "\n",
       "   Opponent Strength (ELO Rating) Weather Conditions  \\\n",
       "0                            1714              Windy   \n",
       "1                            1681               Cold   \n",
       "2                            1752              Sunny   \n",
       "3                            1514               Cold   \n",
       "4                            1852              Windy   \n",
       "\n",
       "  Managerial Change (Yes/No)  \n",
       "0                        Yes  \n",
       "1                        Yes  \n",
       "2                        Yes  \n",
       "3                        Yes  \n",
       "4                        Yes  "
      ]
     },
     "metadata": {},
     "output_type": "display_data"
    }
   ],
   "source": [
    "def load_dataset(file_path):\n",
    "    try:\n",
    "        df = pd.read_csv(file_path)\n",
    "        print(\"Dataset loaded successfully. Here are the first few rows:\")\n",
    "        display(df.head())\n",
    "        return df\n",
    "    except Exception as e:\n",
    "        print(f\"Error loading dataset: {e}\")\n",
    "        return None\n",
    "\n",
    "# Load the dataset (update the path if necessary)\n",
    "dataset_path = 'FC Barcelona Statistics.csv'\n",
    "df = load_dataset(dataset_path)"
   ]
  },
  {
   "cell_type": "markdown",
   "id": "0644d570",
   "metadata": {},
   "source": [
    "## Step 2: Data Preprocessing\n",
    "\n",
    "In this step, we:\n",
    "\n",
    "- Separate the target variable (`Result`).\n",
    "- Identify numeric and categorical features.\n",
    "- Fill missing values (median for numeric, mode for categorical).\n",
    "- Encode categorical features using one-hot encoding.\n",
    "- Scale numeric features.\n",
    "\n",
    "This ensures that both numeric and non-numeric data (which can be useful for actionable insights) are incorporated."
   ]
  },
  {
   "cell_type": "code",
   "execution_count": 4,
   "id": "06d42350",
   "metadata": {},
   "outputs": [
    {
     "name": "stdout",
     "output_type": "stream",
     "text": [
      "Target classes: ['Draw' 'Loss' 'Win']\n",
      "Data preprocessing completed.\n"
     ]
    }
   ],
   "source": [
    "def preprocess_data(df):\n",
    "    if 'Result' not in df.columns:\n",
    "        print(\"Error: 'Result' column not found in the dataset.\")\n",
    "        return None, None, None, None\n",
    "        \n",
    "    y = df['Result']\n",
    "    X = df.drop(columns=['Result'])\n",
    "    \n",
    "    # Identify numeric and categorical columns\n",
    "    numeric_cols = X.select_dtypes(include=[np.number]).columns.tolist()\n",
    "    categorical_cols = X.select_dtypes(exclude=[np.number]).columns.tolist()\n",
    "    \n",
    "    # Fill missing values\n",
    "    X[numeric_cols] = X[numeric_cols].fillna(X[numeric_cols].median())\n",
    "    for col in categorical_cols:\n",
    "        X[col] = X[col].fillna(X[col].mode()[0])\n",
    "    \n",
    "    # One-hot encoding for categorical features\n",
    "    X_encoded = pd.get_dummies(X, columns=categorical_cols, drop_first=True)\n",
    "    \n",
    "    feature_names = X_encoded.columns.tolist()\n",
    "    \n",
    "    # Encode target labels\n",
    "    label_encoder = LabelEncoder()\n",
    "    y_encoded = label_encoder.fit_transform(y)\n",
    "    print(\"Target classes:\", label_encoder.classes_)\n",
    "    \n",
    "    # Scale numeric features only (using original numeric column names)\n",
    "    scaler = StandardScaler()\n",
    "    X_encoded[numeric_cols] = scaler.fit_transform(X_encoded[numeric_cols])\n",
    "    \n",
    "    return X_encoded.values, y_encoded, feature_names, label_encoder\n",
    "\n",
    "# Preprocess the data\n",
    "X, y, feature_names, label_encoder = preprocess_data(df)\n",
    "print(\"Data preprocessing completed.\")"
   ]
  },
  {
   "cell_type": "markdown",
   "id": "62f9d51b",
   "metadata": {},
   "source": [
    "## Step 3: Model Training and Evaluation\n",
    "\n",
    "We split the data into training and testing sets (80/20 split) and train the following models:\n",
    "\n",
    "- **Logistic Regression** (baseline linear model)\n",
    "- **Random Forest Classifier** (non-linear ensemble model)\n",
    "- **Gradient Boosting Classifier** (non-linear ensemble model)\n",
    "\n",
    "For each model, we calculate the accuracy, weighted F1-score, and display the confusion matrix. We also perform 5-fold cross-validation for additional robustness."
   ]
  },
  {
   "cell_type": "code",
   "execution_count": null,
   "id": "cb382c90",
   "metadata": {},
   "outputs": [
    {
     "name": "stdout",
     "output_type": "stream",
     "text": [
      "\n",
      "Training Logistic Regression...\n",
      "Logistic Regression Accuracy: 0.9250\n",
      "Logistic Regression Weighted F1-Score: 0.9042\n",
      "Logistic Regression Classification Report:\n",
      "               precision    recall  f1-score   support\n",
      "\n",
      "        Draw       1.00      0.25      0.40         4\n",
      "        Loss       0.89      1.00      0.94        17\n",
      "         Win       0.95      1.00      0.97        19\n",
      "\n",
      "    accuracy                           0.93        40\n",
      "   macro avg       0.95      0.75      0.77        40\n",
      "weighted avg       0.93      0.93      0.90        40\n",
      "\n"
     ]
    },
    {
     "data": {
      "image/png": "[encoded data removed]",
      "text/plain": [
       "<Figure size 640x480 with 2 Axes>"
      ]
     },
     "metadata": {},
     "output_type": "display_data"
    },
    {
     "name": "stdout",
     "output_type": "stream",
     "text": [
      "Logistic Regression Cross-validation Accuracy: 0.8625 ± 0.0250\n",
      "\n",
      "Training Random Forest...\n",
      "Random Forest Accuracy: 0.8750\n",
      "Random Forest Weighted F1-Score: 0.8298\n",
      "Random Forest Classification Report:\n",
      "               precision    recall  f1-score   support\n",
      "\n",
      "        Draw       0.00      0.00      0.00         4\n",
      "        Loss       0.94      0.94      0.94        17\n",
      "         Win       0.83      1.00      0.90        19\n",
      "\n",
      "    accuracy                           0.88        40\n",
      "   macro avg       0.59      0.65      0.62        40\n",
      "weighted avg       0.79      0.88      0.83        40\n",
      "\n"
     ]
    },
    {
     "data": {
      "image/png": "[encoded data removed]",
      "text/plain": [
       "<Figure size 640x480 with 2 Axes>"
      ]
     },
     "metadata": {},
     "output_type": "display_data"
    },
    {
     "name": "stdout",
     "output_type": "stream",
     "text": [
      "Random Forest Cross-validation Accuracy: 0.7750 ± 0.0306\n",
      "\n",
      "Training Gradient Boosting...\n",
      "Gradient Boosting Accuracy: 0.9000\n",
      "Gradient Boosting Weighted F1-Score: 0.8548\n",
      "Gradient Boosting Classification Report:\n",
      "               precision    recall  f1-score   support\n",
      "\n",
      "        Draw       0.00      0.00      0.00         4\n",
      "        Loss       1.00      1.00      1.00        17\n",
      "         Win       0.83      1.00      0.90        19\n",
      "\n",
      "    accuracy                           0.90        40\n",
      "   macro avg       0.61      0.67      0.63        40\n",
      "weighted avg       0.82      0.90      0.85        40\n",
      "\n"
     ]
    },
    {
     "data": {
      "image/png": "[encoded data removed]",
      "text/plain": [
       "<Figure size 640x480 with 2 Axes>"
      ]
     },
     "metadata": {},
     "output_type": "display_data"
    },
    {
     "name": "stdout",
     "output_type": "stream",
     "text": [
      "Gradient Boosting Cross-validation Accuracy: 0.9000 ± 0.0500\n"
     ]
    }
   ],
   "source": [
    "def plot_confusion_matrix(cm, model_name, classes):\n",
    "    plt.figure()\n",
    "    plt.imshow(cm, interpolation='nearest', cmap=plt.cm.Blues)\n",
    "    plt.title(f'Confusion Matrix - {model_name}')\n",
    "    plt.colorbar()\n",
    "    tick_marks = np.arange(len(classes))\n",
    "    plt.xticks(tick_marks, classes, rotation=45)\n",
    "    plt.yticks(tick_marks, classes)\n",
    "    \n",
    "    thresh = cm.max() / 2.\n",
    "    for i in range(cm.shape[0]):\n",
    "        for j in range(cm.shape[1]):\n",
    "            plt.text(j, i, format(cm[i, j], 'd'),\n",
    "                     horizontalalignment=\"center\",\n",
    "                     color=\"white\" if cm[i, j] > thresh else \"black\")\n",
    "    \n",
    "    plt.ylabel('True Label')\n",
    "    plt.xlabel('Predicted Label')\n",
    "    plt.tight_layout()\n",
    "    plt.show()\n",
    "\n",
    "def train_and_evaluate(X_train, X_test, y_train, y_test, label_encoder, feature_names):\n",
    "    models = {\n",
    "        'Logistic Regression': LogisticRegression(max_iter=1000, random_state=42),\n",
    "        'Random Forest': RandomForestClassifier(n_estimators=100, random_state=42),\n",
    "        'Gradient Boosting': GradientBoostingClassifier(n_estimators=100, random_state=42)\n",
    "    }\n",
    "    \n",
    "    results = {}\n",
    "    \n",
    "    for name, model in models.items():\n",
    "        print(f\"\\nTraining {name}...\")\n",
    "        model.fit(X_train, y_train)\n",
    "        y_pred = model.predict(X_test)\n",
    "        \n",
    "        acc = accuracy_score(y_test, y_pred)\n",
    "        f1 = f1_score(y_test, y_pred, average='weighted')\n",
    "        cm = confusion_matrix(y_test, y_pred)\n",
    "        \n",
    "        print(f\"{name} Accuracy: {acc:.4f}\")\n",
    "        print(f\"{name} Weighted F1-Score: {f1:.4f}\")\n",
    "        print(f\"{name} Classification Report:\\n\", classification_report(y_test, y_pred, target_names=label_encoder.classes_, zero_division=0))\n",
    "        \n",
    "        results[name] = {\n",
    "            'accuracy': acc,\n",
    "            'f1_score': f1,\n",
    "            'confusion_matrix': cm\n",
    "        }\n",
    "        \n",
    "        # Plot confusion matrix\n",
    "        plot_confusion_matrix(cm, name, list(label_encoder.classes_))\n",
    "        \n",
    "        cv_scores = cross_val_score(model, X_train, y_train, cv=5, scoring='accuracy')\n",
    "        print(f\"{name} Cross-validation Accuracy: {np.mean(cv_scores):.4f} ± {np.std(cv_scores):.4f}\")\n",
    "        \n",
    "        if hasattr(model, 'feature_importances_'):\n",
    "            results[name]['feature_importances'] = dict(zip(feature_names, model.feature_importances_))\n",
    "    \n",
    "    return results\n",
    "\n",
    "# Split data (80/20 split)\n",
    "X_train, X_test, y_train, y_test = train_test_split(X, y, test_size=0.2, random_state=42)\n",
    "\n",
    "# Train models and evaluate\n",
    "results = train_and_evaluate(X_train, X_test, y_train, y_test, label_encoder, feature_names)"
   ]
  },
  {
   "cell_type": "markdown",
   "id": "5bba8f96",
   "metadata": {},
   "source": [
    "## Step 4: Extract Feature Importances and Provide Suggestions\n",
    "\n",
    "For the non-linear models (Random Forest and Gradient Boosting), we extract feature importances. Based on the top features, we provide actionable suggestions for improving team performance. The suggestions are mapped based on keywords in the feature names."
   ]
  },
  {
   "cell_type": "code",
   "execution_count": 8,
   "id": "247700d2",
   "metadata": {},
   "outputs": [
    {
     "name": "stdout",
     "output_type": "stream",
     "text": [
      "\n",
      "Analyzing feature importances for Random Forest:\n",
      "\n",
      "Top features and suggestions for performance improvement:\n",
      "- Goals Conceded: importance = 0.1683\n",
      "  Suggestion: Improve defensive organization to minimize opponent scoring opportunities.\n",
      "- Goals Scored: importance = 0.1444\n",
      "  Suggestion: Focus on offensive strategies to increase the number of goals scored.\n",
      "- xG: importance = 0.0506\n",
      "  Suggestion: Increase the quality of goal-scoring opportunities.\n",
      "\n",
      "Analyzing feature importances for Gradient Boosting:\n",
      "\n",
      "Top features and suggestions for performance improvement:\n",
      "- Goals Conceded: importance = 0.4599\n",
      "  Suggestion: Improve defensive organization to minimize opponent scoring opportunities.\n",
      "- Goals Scored: importance = 0.3686\n",
      "  Suggestion: Focus on offensive strategies to increase the number of goals scored.\n",
      "- xG: importance = 0.0210\n",
      "  Suggestion: Increase the quality of goal-scoring opportunities.\n"
     ]
    }
   ],
   "source": [
    "def provide_suggestions(feature_importances, top_n=3):\n",
    "    suggestion_mapping = {\n",
    "        'Possession (%)': \"Focus on strategies that improve ball retention and control the pace of the game.\",\n",
    "        'Shots on Target': \"Improve shot quality and conversion rate to capitalize on offensive opportunities.\",\n",
    "        'xG': \"Increase the quality of goal-scoring opportunities.\",\n",
    "        'Pass Accuracy (%)': \"Enhance passing accuracy to maintain possession and create better attacking plays.\",\n",
    "        'Tackles Won': \"Strengthen defensive efforts to win back possession.\",\n",
    "        'Key Passes': \"Increase the number of key passes to create more goal-scoring opportunities.\",\n",
    "        'Goals Scored': \"Focus on offensive strategies to increase the number of goals scored.\",\n",
    "        'Goals Conceded': \"Improve defensive organization to minimize opponent scoring opportunities.\",\n",
    "        'Injury Impact (%)': \"Manage player fitness and recovery to reduce the impact of injuries.\",\n",
    "        'Rest Days Before Match': \"Optimize training and recovery schedules to ensure players are well-rested.\",\n",
    "        'Opponent Strength (ELO Rating)': \"Develop strategies to counter strong opponents.\"\n",
    "    }\n",
    "    \n",
    "    sorted_features = sorted(feature_importances.items(), key=lambda x: x[1], reverse=True)\n",
    "    suggestions = []\n",
    "    \n",
    "    print(\"\\nTop features and suggestions for performance improvement:\")\n",
    "    for feature, importance in sorted_features[:top_n]:\n",
    "        suggestion = suggestion_mapping.get(feature, \"Investigate this factor further to determine how it can be optimized for better performance.\")\n",
    "        suggestions.append((feature, importance, suggestion))\n",
    "        print(f\"- {feature}: importance = {importance:.4f}\")\n",
    "        print(f\"  Suggestion: {suggestion}\")\n",
    "    \n",
    "    return suggestions\n",
    "\n",
    "# Provide suggestions for non-linear models if available\n",
    "for model_name in ['Random Forest', 'Gradient Boosting']:\n",
    "    if 'feature_importances' in results[model_name]:\n",
    "        print(f\"\\nAnalyzing feature importances for {model_name}:\")\n",
    "        suggestions = provide_suggestions(results[model_name]['feature_importances'], top_n=3)"
   ]
  },
  {
   "cell_type": "markdown",
   "id": "37bc1137",
   "metadata": {},
   "source": [
    "## Step 5: Model Comparison Summary\n",
    "\n",
    "We now summarize the evaluation metrics for each model, including accuracy and weighted F1-scores."
   ]
  },
  {
   "cell_type": "code",
   "execution_count": 9,
   "id": "3a2b92ac",
   "metadata": {},
   "outputs": [
    {
     "name": "stdout",
     "output_type": "stream",
     "text": [
      "\n",
      "Final model comparison results:\n",
      "Logistic Regression: Accuracy = 0.9250, Weighted F1-score = 0.9042\n",
      "Random Forest: Accuracy = 0.8750, Weighted F1-score = 0.8298\n",
      "Gradient Boosting: Accuracy = 0.9000, Weighted F1-score = 0.8548\n"
     ]
    }
   ],
   "source": [
    "print(\"\\nFinal model comparison results:\")\n",
    "for model_name, metrics in results.items():\n",
    "    print(f\"{model_name}: Accuracy = {metrics['accuracy']:.4f}, Weighted F1-score = {metrics['f1_score']:.4f}\")"
   ]
  },
  {
   "cell_type": "markdown",
   "id": "bcbf331a",
   "metadata": {},
   "source": [
    "## Conclusion\n",
    "\n",
    "This notebook demonstrated a complete workflow for predicting FC Barcelona match outcomes and providing actionable insights. We processed both numeric and categorical data, compared three different models, and extracted feature importances from the non-linear models to offer tactical suggestions.\n",
    "\n",
    "Feel free to adjust the code, mapping of features to suggestions, or any parameters to further refine the analysis."
   ]
  }
 ],
 "metadata": {
  "kernelspec": {
   "display_name": ".venv",
   "language": "python",
   "name": "python3"
  },
  "language_info": {
   "codemirror_mode": {
    "name": "ipython",
    "version": 3
   },
   "file_extension": ".py",
   "mimetype": "text/x-python",
   "name": "python",
   "nbconvert_exporter": "python",
   "pygments_lexer": "ipython3",
   "version": "3.9.6"
  }
 },
 "nbformat": 4,
 "nbformat_minor": 2
}
